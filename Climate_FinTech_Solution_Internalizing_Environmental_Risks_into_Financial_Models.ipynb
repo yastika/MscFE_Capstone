{
  "nbformat": 4,
  "nbformat_minor": 0,
  "metadata": {
    "colab": {
      "provenance": [],
      "include_colab_link": true
    },
    "kernelspec": {
      "name": "python3",
      "display_name": "Python 3"
    },
    "language_info": {
      "name": "python"
    }
  },
  "cells": [
    {
      "cell_type": "markdown",
      "metadata": {
        "id": "view-in-github",
        "colab_type": "text"
      },
      "source": [
        "<a href=\"https://colab.research.google.com/github/yastika/MscFE_Capstone/blob/main/Climate_FinTech_Solution_Internalizing_Environmental_Risks_into_Financial_Models.ipynb\" target=\"_parent\"><img src=\"https://colab.research.google.com/assets/colab-badge.svg\" alt=\"Open In Colab\"/></a>"
      ]
    },
    {
      "cell_type": "markdown",
      "source": [
        "**Section 1: Introduction**"
      ],
      "metadata": {
        "id": "cEdT_wX1esfe"
      }
    },
    {
      "cell_type": "markdown",
      "source": [
        "# **Climate-Adjusted Credit Scoring Prototype**\n",
        "This notebook demonstrates how to internalize environmental risks (like floods and heatwaves) into credit scoring for SMEs using Gradient Boosting Machine (GBM) and a prototype Streamlit dashboard.\n"
      ],
      "metadata": {
        "id": "-H_YX6Cie04U"
      }
    },
    {
      "cell_type": "markdown",
      "source": [
        "**Section 2: Data Collection and Integration**"
      ],
      "metadata": {
        "id": "rjL63VukfHdX"
      }
    },
    {
      "cell_type": "markdown",
      "source": [
        "## **Step 1: Data Collection and Integration**\n",
        "We merge SME-level financial data and regional climate event history based on region and year.\n"
      ],
      "metadata": {
        "id": "tphxQwpUfKpM"
      }
    },
    {
      "cell_type": "code",
      "source": [
        "import pandas as pd\n",
        "\n",
        "# Load datasets\n",
        "climate_df = pd.read_csv(\"flood_heatwave_data.csv\")\n",
        "sme_financial_df = pd.read_csv(\"sme_financials.csv\")\n",
        "\n",
        "# Merge on region and year\n",
        "combined_df = pd.merge(climate_df, sme_financial_df, on=[\"region\", \"year\"])\n",
        "combined_df.head()"
      ],
      "metadata": {
        "id": "DzTij-DyuIGZ"
      },
      "execution_count": null,
      "outputs": []
    },
    {
      "cell_type": "markdown",
      "source": [
        "**Section 3: Feature Engineering**"
      ],
      "metadata": {
        "id": "BlAWrYJ-fOXa"
      }
    },
    {
      "cell_type": "markdown",
      "source": [
        "## **Step 2: Feature Engineering**\n",
        "We construct normalized environmental scores and select relevant financial features.\n"
      ],
      "metadata": {
        "id": "3SCd2mqbfeZE"
      }
    },
    {
      "cell_type": "code",
      "source": [
        "baseline_temp = 30  # Hypothetical baseline\n",
        "\n",
        "# Normalize climate risk features\n",
        "combined_df[\"flood_risk\"] = combined_df[\"flood_frequency\"] / combined_df[\"flood_frequency\"].max()\n",
        "combined_df[\"heat_index\"] = (combined_df[\"avg_temp\"] - baseline_temp) / 10\n",
        "\n",
        "# Select modeling features\n",
        "features = combined_df[[\"flood_risk\", \"heat_index\", \"credit_score\", \"debt_ratio\"]]\n",
        "target = combined_df[\"defaulted\"]\n"
      ],
      "metadata": {
        "id": "pphqyS2Qex2u"
      },
      "execution_count": null,
      "outputs": []
    },
    {
      "cell_type": "markdown",
      "source": [
        "**Section 4: Model Development**"
      ],
      "metadata": {
        "id": "1Qvdw3OYfw_u"
      }
    },
    {
      "cell_type": "markdown",
      "source": [
        "## **Step 3: Model Training (Gradient Boosting Classifier)**\n",
        "Train a GBM model using SME and climate features to predict default probabilities.\n"
      ],
      "metadata": {
        "id": "I4oi71MSf9VB"
      }
    },
    {
      "cell_type": "code",
      "source": [
        "from sklearn.ensemble import GradientBoostingClassifier\n",
        "from sklearn.model_selection import train_test_split\n",
        "from sklearn.metrics import roc_auc_score, mean_squared_error\n",
        "\n",
        "# Train-test split\n",
        "X_train, X_test, y_train, y_test = train_test_split(features, target, test_size=0.2, random_state=42)\n",
        "\n",
        "# Train model\n",
        "model = GradientBoostingClassifier()\n",
        "model.fit(X_train, y_train)\n",
        "\n",
        "# Predictions\n",
        "predictions = model.predict_proba(X_test)[:, 1]\n",
        "\n",
        "# Evaluation metrics\n",
        "auc = roc_auc_score(y_test, predictions)\n",
        "rmse = mean_squared_error(y_test, predictions, squared=False)\n",
        "\n",
        "print(f\"AUC: {auc:.2f}\")\n",
        "print(f\"RMSE: {rmse:.2f}\")"
      ],
      "metadata": {
        "id": "zAdrledGf7Ej"
      },
      "execution_count": null,
      "outputs": []
    },
    {
      "cell_type": "markdown",
      "source": [
        "**Section 5: Climate Risk Scoring Function**"
      ],
      "metadata": {
        "id": "WWm9rv68gGeq"
      }
    },
    {
      "cell_type": "markdown",
      "source": [
        "## **Step 4: Climate Credit Risk Score Labeling**\n",
        "Convert numeric probability scores into categorical labels: Low, Medium, High Risk.\n"
      ],
      "metadata": {
        "id": "HZVK0JK7gKfN"
      }
    },
    {
      "cell_type": "code",
      "source": [
        "def climate_credit_risk_score(probability):\n",
        "    if probability > 0.7:\n",
        "        return \"High Risk\"\n",
        "    elif probability > 0.4:\n",
        "        return \"Medium Risk\"\n",
        "    else:\n",
        "        return \"Low Risk\"\n",
        "\n",
        "# Example usage\n",
        "example_prob = 0.65\n",
        "print(f\"Risk Category: {climate_credit_risk_score(example_prob)}\")"
      ],
      "metadata": {
        "id": "z0_3cLkTgN-f"
      },
      "execution_count": null,
      "outputs": []
    },
    {
      "cell_type": "markdown",
      "source": [
        "## **Step 5: Prototype Dashboard**"
      ],
      "metadata": {
        "id": "r_P1i9RfugJq"
      }
    },
    {
      "cell_type": "markdown",
      "source": [
        "**Interactive Credit Scoring Dashboard with Ipywidgets**"
      ],
      "metadata": {
        "id": "TbPVOeU7gYVp"
      }
    },
    {
      "cell_type": "code",
      "source": [
        "import ipywidgets as widgets\n",
        "from IPython.display import display, Markdown\n",
        "\n",
        "# Define the interactive widgets\n",
        "flood_slider = widgets.FloatSlider(value=0.3, min=0.0, max=1.0, step=0.01, description='Flood Risk')\n",
        "heat_slider = widgets.FloatSlider(value=0.2, min=0.0, max=1.0, step=0.01, description='Heat Index')\n",
        "credit_slider = widgets.IntSlider(value=600, min=300, max=850, step=10, description='Credit Score')\n",
        "debt_slider = widgets.FloatSlider(value=0.5, min=0.0, max=1.0, step=0.01, description='Debt Ratio')\n",
        "\n",
        "# Define function to run model and display result\n",
        "def update_risk(flood, heat, credit_score, debt_ratio):\n",
        "    input_vector = [[flood, heat, credit_score, debt_ratio]]\n",
        "    prob = model.predict_proba(input_vector)[0][1]\n",
        "    risk_label = climate_credit_risk_score(prob)\n",
        "\n",
        "    display(Markdown(f\"### 📊 Predicted Risk Probability: `{prob:.2f}`\"))\n",
        "    display(Markdown(f\"### 🛡️ Risk Category: `{risk_label}`\"))\n",
        "\n",
        "# Display interactive widget panel\n",
        "widgets.interact(update_risk,\n",
        "                 flood=flood_slider,\n",
        "                 heat=heat_slider,\n",
        "                 credit_score=credit_slider,\n",
        "                 debt_ratio=debt_slider)"
      ],
      "metadata": {
        "id": "xyR3Ys-3g7I-"
      },
      "execution_count": null,
      "outputs": []
    },
    {
      "cell_type": "markdown",
      "source": [],
      "metadata": {
        "id": "lM6dcz7khD8e"
      }
    }
  ]
}